{
  "nbformat": 4,
  "nbformat_minor": 0,
  "metadata": {
    "colab": {
      "provenance": [],
      "authorship_tag": "ABX9TyMC7N2kN5eypIcLuLoeyYn1",
      "include_colab_link": true
    },
    "kernelspec": {
      "name": "python3",
      "display_name": "Python 3"
    },
    "language_info": {
      "name": "python"
    }
  },
  "cells": [
    {
      "cell_type": "markdown",
      "metadata": {
        "id": "view-in-github",
        "colab_type": "text"
      },
      "source": [
        "<a href=\"https://colab.research.google.com/github/KateT840/M-computacionales-1/blob/main/Parcial_4.ipynb\" target=\"_parent\"><img src=\"https://colab.research.google.com/assets/colab-badge.svg\" alt=\"Open In Colab\"/></a>"
      ]
    },
    {
      "cell_type": "code",
      "execution_count": 1,
      "metadata": {
        "colab": {
          "base_uri": "https://localhost:8080/"
        },
        "id": "_bI3CbiJimwe",
        "outputId": "ae708dd1-efaf-4e19-e1fa-5e91730fa9de"
      },
      "outputs": [
        {
          "output_type": "stream",
          "name": "stdout",
          "text": [
            "Collecting emcee\n",
            "  Downloading emcee-3.1.6-py2.py3-none-any.whl.metadata (3.0 kB)\n",
            "Requirement already satisfied: numpy in /usr/local/lib/python3.11/dist-packages (from emcee) (2.0.2)\n",
            "Downloading emcee-3.1.6-py2.py3-none-any.whl (47 kB)\n",
            "\u001b[?25l   \u001b[90m━━━━━━━━━━━━━━━━━━━━━━━━━━━━━━━━━━━━━━━━\u001b[0m \u001b[32m0.0/47.4 kB\u001b[0m \u001b[31m?\u001b[0m eta \u001b[36m-:--:--\u001b[0m\r\u001b[2K   \u001b[90m━━━━━━━━━━━━━━━━━━━━━━━━━━━━━━━━━━━━━━━━\u001b[0m \u001b[32m47.4/47.4 kB\u001b[0m \u001b[31m2.1 MB/s\u001b[0m eta \u001b[36m0:00:00\u001b[0m\n",
            "\u001b[?25hInstalling collected packages: emcee\n",
            "Successfully installed emcee-3.1.6\n",
            "Collecting corner\n",
            "  Downloading corner-2.2.3-py3-none-any.whl.metadata (2.2 kB)\n",
            "Requirement already satisfied: matplotlib>=2.1 in /usr/local/lib/python3.11/dist-packages (from corner) (3.10.0)\n",
            "Requirement already satisfied: contourpy>=1.0.1 in /usr/local/lib/python3.11/dist-packages (from matplotlib>=2.1->corner) (1.3.2)\n",
            "Requirement already satisfied: cycler>=0.10 in /usr/local/lib/python3.11/dist-packages (from matplotlib>=2.1->corner) (0.12.1)\n",
            "Requirement already satisfied: fonttools>=4.22.0 in /usr/local/lib/python3.11/dist-packages (from matplotlib>=2.1->corner) (4.58.0)\n",
            "Requirement already satisfied: kiwisolver>=1.3.1 in /usr/local/lib/python3.11/dist-packages (from matplotlib>=2.1->corner) (1.4.8)\n",
            "Requirement already satisfied: numpy>=1.23 in /usr/local/lib/python3.11/dist-packages (from matplotlib>=2.1->corner) (2.0.2)\n",
            "Requirement already satisfied: packaging>=20.0 in /usr/local/lib/python3.11/dist-packages (from matplotlib>=2.1->corner) (24.2)\n",
            "Requirement already satisfied: pillow>=8 in /usr/local/lib/python3.11/dist-packages (from matplotlib>=2.1->corner) (11.2.1)\n",
            "Requirement already satisfied: pyparsing>=2.3.1 in /usr/local/lib/python3.11/dist-packages (from matplotlib>=2.1->corner) (3.2.3)\n",
            "Requirement already satisfied: python-dateutil>=2.7 in /usr/local/lib/python3.11/dist-packages (from matplotlib>=2.1->corner) (2.9.0.post0)\n",
            "Requirement already satisfied: six>=1.5 in /usr/local/lib/python3.11/dist-packages (from python-dateutil>=2.7->matplotlib>=2.1->corner) (1.17.0)\n",
            "Downloading corner-2.2.3-py3-none-any.whl (15 kB)\n",
            "Installing collected packages: corner\n",
            "Successfully installed corner-2.2.3\n"
          ]
        }
      ],
      "source": [
        "!pip install emcee\n",
        "!pip install corner"
      ]
    },
    {
      "cell_type": "code",
      "source": [
        "import numpy as np\n",
        "import matplotlib.pyplot as plt\n",
        "import pandas as pd\n",
        "import emcee\n",
        "import corner\n",
        "import os\n",
        "from google.colab import drive\n",
        "import scipy.optimize as spo\n",
        "from scipy.stats import poisson, norm\n",
        "drive.mount('/content/drive', force_remount=True)"
      ],
      "metadata": {
        "colab": {
          "base_uri": "https://localhost:8080/"
        },
        "id": "6Jl4aZOfjoBS",
        "outputId": "5affb0ee-cf97-4879-984a-bda56dfccc51"
      },
      "execution_count": 17,
      "outputs": [
        {
          "output_type": "stream",
          "name": "stdout",
          "text": [
            "Mounted at /content/drive\n"
          ]
        }
      ]
    },
    {
      "cell_type": "code",
      "source": [
        "os.chdir(\"/content/drive/MyDrive/ColabNotebooks1\")\n",
        "!ls"
      ],
      "metadata": {
        "colab": {
          "base_uri": "https://localhost:8080/"
        },
        "id": "mqP8TfhWj6g_",
        "outputId": "a37ec7d4-6c28-4607-9896-b00d7148ef97"
      },
      "execution_count": 18,
      "outputs": [
        {
          "output_type": "stream",
          "name": "stdout",
          "text": [
            " DataExponencial1.csv\t   DatosRegresion.csv   MinimosCuadratico.txt\n",
            " DataExponencial.csv\t   Gaussiano.csv        MinimosLineal.txt\n",
            "'DatosRegresion (1).csv'   MediaMovilData.csv\n"
          ]
        }
      ]
    },
    {
      "cell_type": "code",
      "source": [
        "x1 = np.array([15, 15, 13, 17, 15])\n",
        "x2 = np.array([18, 20, 16, 21, 15])\n",
        "_x = (x1, x2)\n",
        "p0 = [1.5, 0.7, 0.8]"
      ],
      "metadata": {
        "id": "EQH1bDD3kjCM"
      },
      "execution_count": 44,
      "outputs": []
    },
    {
      "cell_type": "code",
      "source": [
        "def Likelihood(p,x):\n",
        "  λ, ε1, ε2 = p\n",
        "  x1, x2 = x\n",
        "  t = 10\n",
        "  L1 = poisson.pmf(x1, mu=λ * t * ε1)\n",
        "  L2 = poisson.pmf(x2, mu=λ * t * ε2)\n",
        "  prior_ε1 = norm.pdf(ε1, loc=0.7, scale=0.1)\n",
        "  prior_ε2 = norm.pdf(ε2, loc=0.8, scale=0.3)\n",
        "  return np.prod(L1) * np.prod(L2) * prior_ε1 * prior_ε2"
      ],
      "metadata": {
        "id": "bcbDcjlTqudG"
      },
      "execution_count": 45,
      "outputs": []
    },
    {
      "cell_type": "code",
      "source": [
        "Likelihood(p0, _x)"
      ],
      "metadata": {
        "colab": {
          "base_uri": "https://localhost:8080/"
        },
        "id": "Ht_RQlLHrcbv",
        "outputId": "b59fb4b7-34d9-43d5-a3bd-a4dde986123a"
      },
      "execution_count": 46,
      "outputs": [
        {
          "output_type": "execute_result",
          "data": {
            "text/plain": [
              "np.float64(3.5424425745972884e-15)"
            ]
          },
          "metadata": {},
          "execution_count": 46
        }
      ]
    },
    {
      "cell_type": "code",
      "source": [
        "def JointLikelihood(p,x):\n",
        "  return np.sum(np.log(Likelihood(p,x)))"
      ],
      "metadata": {
        "id": "cBnLIjGTrg7j"
      },
      "execution_count": 47,
      "outputs": []
    },
    {
      "cell_type": "code",
      "source": [
        "def LogPrior(p):\n",
        "    λ, ε1, ε2 = p\n",
        "    if 0 < λ < 100 and 0 < ε1 < 1 and 0 < ε2 < 1:\n",
        "        log_prior_ε1 = norm.logpdf(ε1, loc=0.7, scale=0.1)\n",
        "        log_prior_ε2 = norm.logpdf(ε2, loc=0.8, scale=0.3)\n",
        "        return log_prior_ε1 + log_prior_ε2\n",
        "    else:\n",
        "        return -np.inf"
      ],
      "metadata": {
        "id": "APF0TCJe1cqw"
      },
      "execution_count": 48,
      "outputs": []
    },
    {
      "cell_type": "code",
      "source": [
        "def LogPosterior(p,x):\n",
        "  LogP = LogPrior(p)\n",
        "  if not np.isfinite(LogP):\n",
        "    return -np.inf\n",
        "  else:\n",
        "    return LogP + JointLikelihood(p,x)"
      ],
      "metadata": {
        "id": "x4oQkUXVFSan"
      },
      "execution_count": 49,
      "outputs": []
    },
    {
      "cell_type": "code",
      "source": [
        "LogPosterior(p0,_x)"
      ],
      "metadata": {
        "colab": {
          "base_uri": "https://localhost:8080/"
        },
        "id": "OxHcOmUGELvQ",
        "outputId": "78a9ec1e-5c41-40a2-f4ce-b3b632ab9916"
      },
      "execution_count": 50,
      "outputs": [
        {
          "output_type": "execute_result",
          "data": {
            "text/plain": [
              "np.float64(-31.60527908196588)"
            ]
          },
          "metadata": {},
          "execution_count": 50
        }
      ]
    },
    {
      "cell_type": "code",
      "source": [],
      "metadata": {
        "id": "rzzegB7pF7x4"
      },
      "execution_count": null,
      "outputs": []
    }
  ]
}