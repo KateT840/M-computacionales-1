{
  "nbformat": 4,
  "nbformat_minor": 0,
  "metadata": {
    "colab": {
      "provenance": [],
      "authorship_tag": "ABX9TyOF3vmzu4StjmrA8nvRYP9z",
      "include_colab_link": true
    },
    "kernelspec": {
      "name": "python3",
      "display_name": "Python 3"
    },
    "language_info": {
      "name": "python"
    }
  },
  "cells": [
    {
      "cell_type": "markdown",
      "metadata": {
        "id": "view-in-github",
        "colab_type": "text"
      },
      "source": [
        "<a href=\"https://colab.research.google.com/github/KateT840/M-computacionales-1/blob/main/Parcial_4_parte_2.ipynb\" target=\"_parent\"><img src=\"https://colab.research.google.com/assets/colab-badge.svg\" alt=\"Open In Colab\"/></a>"
      ]
    },
    {
      "cell_type": "code",
      "execution_count": 7,
      "metadata": {
        "id": "Sfmb-hO2KxQD"
      },
      "outputs": [],
      "source": [
        "import numpy as np\n",
        "import matplotlib.pyplot as plt\n",
        "import scipy.optimize as spo\n",
        "from scipy.stats import poisson, norm"
      ]
    },
    {
      "cell_type": "code",
      "source": [
        "#Tomando desiciones (Waze)\n",
        "#Punto 1 y 2\n",
        "mu1= np.array([2.0, 2.1, 1.8, 2.0])\n",
        "sigma1= np.array([0.20, 0.25, 0.15, 0.20])\n",
        "\n",
        "mu2= np.array([2.0, 2.4, 2.0, 2.2])\n",
        "sigma2= np.array([0.20, 0.30, 0.20, 0.25])\n",
        "\n",
        "D1 = np.array([150.0, 160.0, 140.0, 155.0])\n",
        "D2 = np.array([150.0, 160.0, 140.0, 155.0])\n",
        "D_total = D1 + D2\n",
        "\n",
        "N = 10**5"
      ],
      "metadata": {
        "id": "VplHPj-hK3Fb"
      },
      "execution_count": 8,
      "outputs": []
    },
    {
      "cell_type": "code",
      "source": [
        "def generar_tiempos(mu1, sigma1, mu2, sigma2, N):\n",
        "    T = np.zeros((len(mu1), N))\n",
        "    for i in range(len(mu1)):\n",
        "        T1_i = norm.rvs(loc=mu1[i], scale=sigma1[i], size=N)\n",
        "        T2_i = norm.rvs(loc=mu2[i], scale=sigma2[i], size=N)\n",
        "        T[i, :] = T1_i + T2_i\n",
        "    return T"
      ],
      "metadata": {
        "id": "47ZaV_b8K9eO"
      },
      "execution_count": 9,
      "outputs": []
    },
    {
      "cell_type": "code",
      "source": [
        "def calcular_velocidades(D_total, T):\n",
        "    V = np.zeros_like(T)\n",
        "    for i in range(len(D_total)):\n",
        "        V[i, :] = D_total[i] / T[i, :]\n",
        "    return V"
      ],
      "metadata": {
        "id": "jwB_Exo-K-t1"
      },
      "execution_count": 10,
      "outputs": []
    },
    {
      "cell_type": "code",
      "source": [
        "def calcular_probabilidad_evento(V):\n",
        "    max_indices = np.argmax(V, axis=0)\n",
        "    probs = np.array([np.mean(max_indices == i) for i in range(V.shape[0])])\n",
        "    return probs"
      ],
      "metadata": {
        "id": "atHMzyYZLCVV"
      },
      "execution_count": 11,
      "outputs": []
    },
    {
      "cell_type": "code",
      "source": [
        "T = generar_tiempos(mu1, sigma1, mu2, sigma2, N)\n",
        "V = calcular_velocidades(D_total, T)\n",
        "prob_prior = calcular_probabilidad_evento(V)"
      ],
      "metadata": {
        "id": "e0ds5mnYLFc-"
      },
      "execution_count": 12,
      "outputs": []
    },
    {
      "cell_type": "code",
      "source": [
        "#Punto 3\n",
        "v_obs = np.array([70, 80, 50, 60])"
      ],
      "metadata": {
        "id": "ObeuDotrLIJv"
      },
      "execution_count": 16,
      "outputs": []
    },
    {
      "cell_type": "code",
      "source": [
        "def calcular_verosimilitud(V, v_obs):\n",
        "  mu_V = np.mean(V, axis=1)\n",
        "  sigma_V = np.std(V, axis=1)\n",
        "  L = norm.pdf(v_obs, loc=mu_V, scale=sigma_V)\n",
        "\n",
        "  return mu_V, sigma_V, L"
      ],
      "metadata": {
        "id": "J2oF_cI1Ndjl"
      },
      "execution_count": 17,
      "outputs": []
    },
    {
      "cell_type": "code",
      "source": [
        "mu_V, sigma_V, L = calcular_verosimilitud(V, v_obs)\n",
        "L"
      ],
      "metadata": {
        "colab": {
          "base_uri": "https://localhost:8080/"
        },
        "id": "YrIGTWAlNhfG",
        "outputId": "daf3c7f3-90d5-47fa-9e9b-a519df79495e"
      },
      "execution_count": 20,
      "outputs": [
        {
          "output_type": "execute_result",
          "data": {
            "text/plain": [
              "array([4.50528546e-02, 2.65959462e-02, 6.00078231e-07, 3.27194235e-03])"
            ]
          },
          "metadata": {},
          "execution_count": 20
        }
      ]
    },
    {
      "cell_type": "code",
      "source": [],
      "metadata": {
        "id": "ZWe99rFVNw8b"
      },
      "execution_count": null,
      "outputs": []
    }
  ]
}