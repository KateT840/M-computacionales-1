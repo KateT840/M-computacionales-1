{
  "nbformat": 4,
  "nbformat_minor": 0,
  "metadata": {
    "colab": {
      "provenance": [],
      "authorship_tag": "ABX9TyMRcswrhrmfCYzkzLmzCBkl",
      "include_colab_link": true
    },
    "kernelspec": {
      "name": "python3",
      "display_name": "Python 3"
    },
    "language_info": {
      "name": "python"
    }
  },
  "cells": [
    {
      "cell_type": "markdown",
      "metadata": {
        "id": "view-in-github",
        "colab_type": "text"
      },
      "source": [
        "<a href=\"https://colab.research.google.com/github/KateT840/M-computacionales-1/blob/main/Parcial_4_parte_2.ipynb\" target=\"_parent\"><img src=\"https://colab.research.google.com/assets/colab-badge.svg\" alt=\"Open In Colab\"/></a>"
      ]
    },
    {
      "cell_type": "code",
      "execution_count": null,
      "metadata": {
        "id": "Sfmb-hO2KxQD"
      },
      "outputs": [],
      "source": [
        "import numpy as np\n",
        "import pandas as pd\n",
        "import matplotlib.pyplot as plt\n",
        "import scipy.optimize as spo\n",
        "from scipy.stats import poisson, norm"
      ]
    },
    {
      "cell_type": "code",
      "source": [
        "#Tomando desiciones (Waze)\n",
        "#Punto 1 y 2\n",
        "mu1= np.array([2.0, 2.1, 1.8, 2.0])\n",
        "sigma1= np.array([0.20, 0.25, 0.15, 0.20])\n",
        "\n",
        "mu2= np.array([2.0, 2.4, 2.0, 2.2])\n",
        "sigma2= np.array([0.20, 0.30, 0.20, 0.25])\n",
        "\n",
        "D1 = np.array([150.0, 160.0, 140.0, 155.0])\n",
        "D2 = np.array([150.0, 160.0, 140.0, 155.0])\n",
        "D_total = D1 + D2\n",
        "\n",
        "N = 10**5"
      ],
      "metadata": {
        "id": "VplHPj-hK3Fb"
      },
      "execution_count": null,
      "outputs": []
    },
    {
      "cell_type": "code",
      "source": [
        "def generar_tiempos(mu1, sigma1, mu2, sigma2, N):\n",
        "    T = np.zeros((len(mu1), N))\n",
        "    for i in range(len(mu1)):\n",
        "        T1_i = norm.rvs(loc=mu1[i], scale=sigma1[i], size=N)\n",
        "        T2_i = norm.rvs(loc=mu2[i], scale=sigma2[i], size=N)\n",
        "        T[i, :] = T1_i + T2_i\n",
        "    return T"
      ],
      "metadata": {
        "id": "47ZaV_b8K9eO"
      },
      "execution_count": null,
      "outputs": []
    },
    {
      "cell_type": "code",
      "source": [
        "def calcular_velocidades(D_total, T):\n",
        "    V = np.zeros_like(T)\n",
        "    for i in range(len(D_total)):\n",
        "        V[i, :] = D_total[i] / T[i, :]\n",
        "    return V"
      ],
      "metadata": {
        "id": "jwB_Exo-K-t1"
      },
      "execution_count": null,
      "outputs": []
    },
    {
      "cell_type": "code",
      "source": [
        "def calcular_probabilidad_evento(V):\n",
        "    max_indices = np.argmax(V, axis=0)\n",
        "    probs = np.array([np.mean(max_indices == i) for i in range(V.shape[0])])\n",
        "    return probs"
      ],
      "metadata": {
        "id": "atHMzyYZLCVV"
      },
      "execution_count": null,
      "outputs": []
    },
    {
      "cell_type": "code",
      "source": [
        "T = generar_tiempos(mu1, sigma1, mu2, sigma2, N)\n",
        "V = calcular_velocidades(D_total, T)\n",
        "prob_prior = calcular_probabilidad_evento(V)"
      ],
      "metadata": {
        "id": "e0ds5mnYLFc-"
      },
      "execution_count": null,
      "outputs": []
    },
    {
      "cell_type": "code",
      "source": [
        "#Punto 3\n",
        "v_obs = np.array([70, 80, 50, 60])"
      ],
      "metadata": {
        "id": "ObeuDotrLIJv"
      },
      "execution_count": null,
      "outputs": []
    },
    {
      "cell_type": "code",
      "source": [
        "def calcular_verosimilitud(V, v_obs):\n",
        "  mu_V = np.mean(V, axis=1)\n",
        "  sigma_V = np.std(V, axis=1)\n",
        "  L = norm.pdf(v_obs, loc=mu_V, scale=sigma_V)\n",
        "\n",
        "  return mu_V, sigma_V, L"
      ],
      "metadata": {
        "id": "J2oF_cI1Ndjl"
      },
      "execution_count": null,
      "outputs": []
    },
    {
      "cell_type": "code",
      "source": [
        "mu_V, sigma_V, L = calcular_verosimilitud(V, v_obs)"
      ],
      "metadata": {
        "id": "YrIGTWAlNhfG"
      },
      "execution_count": null,
      "outputs": []
    },
    {
      "cell_type": "code",
      "source": [
        "#Punto 4\n",
        "def actualizacion_bayesiana(prob_prior, L):\n",
        "  denominador = prob_prior * L\n",
        "  prob_posterior = denominador/np.sum(denominador)\n",
        "  return prob_posterior\n"
      ],
      "metadata": {
        "id": "ZWe99rFVNw8b"
      },
      "execution_count": null,
      "outputs": []
    },
    {
      "cell_type": "code",
      "source": [
        "posterior = actualizacion_bayesiana(prob_prior, L)\n",
        "posterior"
      ],
      "metadata": {
        "colab": {
          "base_uri": "https://localhost:8080/"
        },
        "id": "Lt7kbNKPPcwX",
        "outputId": "8be712a4-ddfd-440c-bcc6-48069dbfedbd"
      },
      "execution_count": null,
      "outputs": [
        {
          "output_type": "execute_result",
          "data": {
            "text/plain": [
              "array([7.45489350e-01, 2.11823851e-01, 6.82430491e-06, 4.26799751e-02])"
            ]
          },
          "metadata": {},
          "execution_count": 32
        }
      ]
    },
    {
      "cell_type": "code",
      "source": [
        "np.sum(actualizacion_bayesiana(prob_prior, L))"
      ],
      "metadata": {
        "colab": {
          "base_uri": "https://localhost:8080/"
        },
        "id": "m6Uc57O-PfuW",
        "outputId": "55f1bdad-3b18-4a3a-dd0b-2edd64c103e5"
      },
      "execution_count": null,
      "outputs": [
        {
          "output_type": "execute_result",
          "data": {
            "text/plain": [
              "np.float64(0.9999999999999999)"
            ]
          },
          "metadata": {},
          "execution_count": 30
        }
      ]
    },
    {
      "cell_type": "code",
      "source": [
        "np.isclose(np.sum(posterior), 1.0)"
      ],
      "metadata": {
        "colab": {
          "base_uri": "https://localhost:8080/"
        },
        "id": "26iLKIKGQQ4R",
        "outputId": "482c7175-af4a-43b0-eee1-7bc4eb522d48"
      },
      "execution_count": null,
      "outputs": [
        {
          "output_type": "execute_result",
          "data": {
            "text/plain": [
              "np.True_"
            ]
          },
          "metadata": {},
          "execution_count": 31
        }
      ]
    },
    {
      "cell_type": "code",
      "source": [
        "tabla = pd.DataFrame({\n",
        "    \"Ruta\": [f\"Ruta {i+1}\" for i in range(4)],\n",
        "    \"μV,i\": mu_V,\n",
        "    \"σV,i\": sigma_V,\n",
        "    \"Prior P(i)\": prob_prior,\n",
        "    \"vobs,i\": v_obs,\n",
        "    \"Likelihood Lᵢ\": L,\n",
        "    \"Posterior P(i | vobs)\": posterior\n",
        "})\n",
        "\n",
        "# Redondear para presentación bonita\n",
        "tabla = tabla.round(4)\n",
        "tabla"
      ],
      "metadata": {
        "colab": {
          "base_uri": "https://localhost:8080/",
          "height": 175
        },
        "id": "wEOF-YyGQh8y",
        "outputId": "2b9fc1b8-b556-4595-d219-4cea8d488f1f"
      },
      "execution_count": null,
      "outputs": [
        {
          "output_type": "execute_result",
          "data": {
            "text/plain": [
              "     Ruta     μV,i    σV,i  Prior P(i)  vobs,i  Likelihood Lᵢ  \\\n",
              "0  Ruta 1  75.3703  5.4245      0.3382      70         0.0451   \n",
              "1  Ruta 2  71.6549  6.3849      0.1628      80         0.0266   \n",
              "2  Ruta 3  73.9992  4.9380      0.2324      50         0.0000   \n",
              "3  Ruta 4  74.2592  5.7732      0.2666      60         0.0033   \n",
              "\n",
              "   Posterior P(i | vobs)  \n",
              "0                 0.7455  \n",
              "1                 0.2118  \n",
              "2                 0.0000  \n",
              "3                 0.0427  "
            ],
            "text/html": [
              "\n",
              "  <div id=\"df-07e62fb8-697c-47c9-b9ef-09d55edd4081\" class=\"colab-df-container\">\n",
              "    <div>\n",
              "<style scoped>\n",
              "    .dataframe tbody tr th:only-of-type {\n",
              "        vertical-align: middle;\n",
              "    }\n",
              "\n",
              "    .dataframe tbody tr th {\n",
              "        vertical-align: top;\n",
              "    }\n",
              "\n",
              "    .dataframe thead th {\n",
              "        text-align: right;\n",
              "    }\n",
              "</style>\n",
              "<table border=\"1\" class=\"dataframe\">\n",
              "  <thead>\n",
              "    <tr style=\"text-align: right;\">\n",
              "      <th></th>\n",
              "      <th>Ruta</th>\n",
              "      <th>μV,i</th>\n",
              "      <th>σV,i</th>\n",
              "      <th>Prior P(i)</th>\n",
              "      <th>vobs,i</th>\n",
              "      <th>Likelihood Lᵢ</th>\n",
              "      <th>Posterior P(i | vobs)</th>\n",
              "    </tr>\n",
              "  </thead>\n",
              "  <tbody>\n",
              "    <tr>\n",
              "      <th>0</th>\n",
              "      <td>Ruta 1</td>\n",
              "      <td>75.3703</td>\n",
              "      <td>5.4245</td>\n",
              "      <td>0.3382</td>\n",
              "      <td>70</td>\n",
              "      <td>0.0451</td>\n",
              "      <td>0.7455</td>\n",
              "    </tr>\n",
              "    <tr>\n",
              "      <th>1</th>\n",
              "      <td>Ruta 2</td>\n",
              "      <td>71.6549</td>\n",
              "      <td>6.3849</td>\n",
              "      <td>0.1628</td>\n",
              "      <td>80</td>\n",
              "      <td>0.0266</td>\n",
              "      <td>0.2118</td>\n",
              "    </tr>\n",
              "    <tr>\n",
              "      <th>2</th>\n",
              "      <td>Ruta 3</td>\n",
              "      <td>73.9992</td>\n",
              "      <td>4.9380</td>\n",
              "      <td>0.2324</td>\n",
              "      <td>50</td>\n",
              "      <td>0.0000</td>\n",
              "      <td>0.0000</td>\n",
              "    </tr>\n",
              "    <tr>\n",
              "      <th>3</th>\n",
              "      <td>Ruta 4</td>\n",
              "      <td>74.2592</td>\n",
              "      <td>5.7732</td>\n",
              "      <td>0.2666</td>\n",
              "      <td>60</td>\n",
              "      <td>0.0033</td>\n",
              "      <td>0.0427</td>\n",
              "    </tr>\n",
              "  </tbody>\n",
              "</table>\n",
              "</div>\n",
              "    <div class=\"colab-df-buttons\">\n",
              "\n",
              "  <div class=\"colab-df-container\">\n",
              "    <button class=\"colab-df-convert\" onclick=\"convertToInteractive('df-07e62fb8-697c-47c9-b9ef-09d55edd4081')\"\n",
              "            title=\"Convert this dataframe to an interactive table.\"\n",
              "            style=\"display:none;\">\n",
              "\n",
              "  <svg xmlns=\"http://www.w3.org/2000/svg\" height=\"24px\" viewBox=\"0 -960 960 960\">\n",
              "    <path d=\"M120-120v-720h720v720H120Zm60-500h600v-160H180v160Zm220 220h160v-160H400v160Zm0 220h160v-160H400v160ZM180-400h160v-160H180v160Zm440 0h160v-160H620v160ZM180-180h160v-160H180v160Zm440 0h160v-160H620v160Z\"/>\n",
              "  </svg>\n",
              "    </button>\n",
              "\n",
              "  <style>\n",
              "    .colab-df-container {\n",
              "      display:flex;\n",
              "      gap: 12px;\n",
              "    }\n",
              "\n",
              "    .colab-df-convert {\n",
              "      background-color: #E8F0FE;\n",
              "      border: none;\n",
              "      border-radius: 50%;\n",
              "      cursor: pointer;\n",
              "      display: none;\n",
              "      fill: #1967D2;\n",
              "      height: 32px;\n",
              "      padding: 0 0 0 0;\n",
              "      width: 32px;\n",
              "    }\n",
              "\n",
              "    .colab-df-convert:hover {\n",
              "      background-color: #E2EBFA;\n",
              "      box-shadow: 0px 1px 2px rgba(60, 64, 67, 0.3), 0px 1px 3px 1px rgba(60, 64, 67, 0.15);\n",
              "      fill: #174EA6;\n",
              "    }\n",
              "\n",
              "    .colab-df-buttons div {\n",
              "      margin-bottom: 4px;\n",
              "    }\n",
              "\n",
              "    [theme=dark] .colab-df-convert {\n",
              "      background-color: #3B4455;\n",
              "      fill: #D2E3FC;\n",
              "    }\n",
              "\n",
              "    [theme=dark] .colab-df-convert:hover {\n",
              "      background-color: #434B5C;\n",
              "      box-shadow: 0px 1px 3px 1px rgba(0, 0, 0, 0.15);\n",
              "      filter: drop-shadow(0px 1px 2px rgba(0, 0, 0, 0.3));\n",
              "      fill: #FFFFFF;\n",
              "    }\n",
              "  </style>\n",
              "\n",
              "    <script>\n",
              "      const buttonEl =\n",
              "        document.querySelector('#df-07e62fb8-697c-47c9-b9ef-09d55edd4081 button.colab-df-convert');\n",
              "      buttonEl.style.display =\n",
              "        google.colab.kernel.accessAllowed ? 'block' : 'none';\n",
              "\n",
              "      async function convertToInteractive(key) {\n",
              "        const element = document.querySelector('#df-07e62fb8-697c-47c9-b9ef-09d55edd4081');\n",
              "        const dataTable =\n",
              "          await google.colab.kernel.invokeFunction('convertToInteractive',\n",
              "                                                    [key], {});\n",
              "        if (!dataTable) return;\n",
              "\n",
              "        const docLinkHtml = 'Like what you see? Visit the ' +\n",
              "          '<a target=\"_blank\" href=https://colab.research.google.com/notebooks/data_table.ipynb>data table notebook</a>'\n",
              "          + ' to learn more about interactive tables.';\n",
              "        element.innerHTML = '';\n",
              "        dataTable['output_type'] = 'display_data';\n",
              "        await google.colab.output.renderOutput(dataTable, element);\n",
              "        const docLink = document.createElement('div');\n",
              "        docLink.innerHTML = docLinkHtml;\n",
              "        element.appendChild(docLink);\n",
              "      }\n",
              "    </script>\n",
              "  </div>\n",
              "\n",
              "\n",
              "    <div id=\"df-c34b0414-2ae8-4299-8cc6-edaf5170eaab\">\n",
              "      <button class=\"colab-df-quickchart\" onclick=\"quickchart('df-c34b0414-2ae8-4299-8cc6-edaf5170eaab')\"\n",
              "                title=\"Suggest charts\"\n",
              "                style=\"display:none;\">\n",
              "\n",
              "<svg xmlns=\"http://www.w3.org/2000/svg\" height=\"24px\"viewBox=\"0 0 24 24\"\n",
              "     width=\"24px\">\n",
              "    <g>\n",
              "        <path d=\"M19 3H5c-1.1 0-2 .9-2 2v14c0 1.1.9 2 2 2h14c1.1 0 2-.9 2-2V5c0-1.1-.9-2-2-2zM9 17H7v-7h2v7zm4 0h-2V7h2v10zm4 0h-2v-4h2v4z\"/>\n",
              "    </g>\n",
              "</svg>\n",
              "      </button>\n",
              "\n",
              "<style>\n",
              "  .colab-df-quickchart {\n",
              "      --bg-color: #E8F0FE;\n",
              "      --fill-color: #1967D2;\n",
              "      --hover-bg-color: #E2EBFA;\n",
              "      --hover-fill-color: #174EA6;\n",
              "      --disabled-fill-color: #AAA;\n",
              "      --disabled-bg-color: #DDD;\n",
              "  }\n",
              "\n",
              "  [theme=dark] .colab-df-quickchart {\n",
              "      --bg-color: #3B4455;\n",
              "      --fill-color: #D2E3FC;\n",
              "      --hover-bg-color: #434B5C;\n",
              "      --hover-fill-color: #FFFFFF;\n",
              "      --disabled-bg-color: #3B4455;\n",
              "      --disabled-fill-color: #666;\n",
              "  }\n",
              "\n",
              "  .colab-df-quickchart {\n",
              "    background-color: var(--bg-color);\n",
              "    border: none;\n",
              "    border-radius: 50%;\n",
              "    cursor: pointer;\n",
              "    display: none;\n",
              "    fill: var(--fill-color);\n",
              "    height: 32px;\n",
              "    padding: 0;\n",
              "    width: 32px;\n",
              "  }\n",
              "\n",
              "  .colab-df-quickchart:hover {\n",
              "    background-color: var(--hover-bg-color);\n",
              "    box-shadow: 0 1px 2px rgba(60, 64, 67, 0.3), 0 1px 3px 1px rgba(60, 64, 67, 0.15);\n",
              "    fill: var(--button-hover-fill-color);\n",
              "  }\n",
              "\n",
              "  .colab-df-quickchart-complete:disabled,\n",
              "  .colab-df-quickchart-complete:disabled:hover {\n",
              "    background-color: var(--disabled-bg-color);\n",
              "    fill: var(--disabled-fill-color);\n",
              "    box-shadow: none;\n",
              "  }\n",
              "\n",
              "  .colab-df-spinner {\n",
              "    border: 2px solid var(--fill-color);\n",
              "    border-color: transparent;\n",
              "    border-bottom-color: var(--fill-color);\n",
              "    animation:\n",
              "      spin 1s steps(1) infinite;\n",
              "  }\n",
              "\n",
              "  @keyframes spin {\n",
              "    0% {\n",
              "      border-color: transparent;\n",
              "      border-bottom-color: var(--fill-color);\n",
              "      border-left-color: var(--fill-color);\n",
              "    }\n",
              "    20% {\n",
              "      border-color: transparent;\n",
              "      border-left-color: var(--fill-color);\n",
              "      border-top-color: var(--fill-color);\n",
              "    }\n",
              "    30% {\n",
              "      border-color: transparent;\n",
              "      border-left-color: var(--fill-color);\n",
              "      border-top-color: var(--fill-color);\n",
              "      border-right-color: var(--fill-color);\n",
              "    }\n",
              "    40% {\n",
              "      border-color: transparent;\n",
              "      border-right-color: var(--fill-color);\n",
              "      border-top-color: var(--fill-color);\n",
              "    }\n",
              "    60% {\n",
              "      border-color: transparent;\n",
              "      border-right-color: var(--fill-color);\n",
              "    }\n",
              "    80% {\n",
              "      border-color: transparent;\n",
              "      border-right-color: var(--fill-color);\n",
              "      border-bottom-color: var(--fill-color);\n",
              "    }\n",
              "    90% {\n",
              "      border-color: transparent;\n",
              "      border-bottom-color: var(--fill-color);\n",
              "    }\n",
              "  }\n",
              "</style>\n",
              "\n",
              "      <script>\n",
              "        async function quickchart(key) {\n",
              "          const quickchartButtonEl =\n",
              "            document.querySelector('#' + key + ' button');\n",
              "          quickchartButtonEl.disabled = true;  // To prevent multiple clicks.\n",
              "          quickchartButtonEl.classList.add('colab-df-spinner');\n",
              "          try {\n",
              "            const charts = await google.colab.kernel.invokeFunction(\n",
              "                'suggestCharts', [key], {});\n",
              "          } catch (error) {\n",
              "            console.error('Error during call to suggestCharts:', error);\n",
              "          }\n",
              "          quickchartButtonEl.classList.remove('colab-df-spinner');\n",
              "          quickchartButtonEl.classList.add('colab-df-quickchart-complete');\n",
              "        }\n",
              "        (() => {\n",
              "          let quickchartButtonEl =\n",
              "            document.querySelector('#df-c34b0414-2ae8-4299-8cc6-edaf5170eaab button');\n",
              "          quickchartButtonEl.style.display =\n",
              "            google.colab.kernel.accessAllowed ? 'block' : 'none';\n",
              "        })();\n",
              "      </script>\n",
              "    </div>\n",
              "\n",
              "  <div id=\"id_8f45a0e3-610b-4e8d-91d7-a7f8fdf05b66\">\n",
              "    <style>\n",
              "      .colab-df-generate {\n",
              "        background-color: #E8F0FE;\n",
              "        border: none;\n",
              "        border-radius: 50%;\n",
              "        cursor: pointer;\n",
              "        display: none;\n",
              "        fill: #1967D2;\n",
              "        height: 32px;\n",
              "        padding: 0 0 0 0;\n",
              "        width: 32px;\n",
              "      }\n",
              "\n",
              "      .colab-df-generate:hover {\n",
              "        background-color: #E2EBFA;\n",
              "        box-shadow: 0px 1px 2px rgba(60, 64, 67, 0.3), 0px 1px 3px 1px rgba(60, 64, 67, 0.15);\n",
              "        fill: #174EA6;\n",
              "      }\n",
              "\n",
              "      [theme=dark] .colab-df-generate {\n",
              "        background-color: #3B4455;\n",
              "        fill: #D2E3FC;\n",
              "      }\n",
              "\n",
              "      [theme=dark] .colab-df-generate:hover {\n",
              "        background-color: #434B5C;\n",
              "        box-shadow: 0px 1px 3px 1px rgba(0, 0, 0, 0.15);\n",
              "        filter: drop-shadow(0px 1px 2px rgba(0, 0, 0, 0.3));\n",
              "        fill: #FFFFFF;\n",
              "      }\n",
              "    </style>\n",
              "    <button class=\"colab-df-generate\" onclick=\"generateWithVariable('tabla')\"\n",
              "            title=\"Generate code using this dataframe.\"\n",
              "            style=\"display:none;\">\n",
              "\n",
              "  <svg xmlns=\"http://www.w3.org/2000/svg\" height=\"24px\"viewBox=\"0 0 24 24\"\n",
              "       width=\"24px\">\n",
              "    <path d=\"M7,19H8.4L18.45,9,17,7.55,7,17.6ZM5,21V16.75L18.45,3.32a2,2,0,0,1,2.83,0l1.4,1.43a1.91,1.91,0,0,1,.58,1.4,1.91,1.91,0,0,1-.58,1.4L9.25,21ZM18.45,9,17,7.55Zm-12,3A5.31,5.31,0,0,0,4.9,8.1,5.31,5.31,0,0,0,1,6.5,5.31,5.31,0,0,0,4.9,4.9,5.31,5.31,0,0,0,6.5,1,5.31,5.31,0,0,0,8.1,4.9,5.31,5.31,0,0,0,12,6.5,5.46,5.46,0,0,0,6.5,12Z\"/>\n",
              "  </svg>\n",
              "    </button>\n",
              "    <script>\n",
              "      (() => {\n",
              "      const buttonEl =\n",
              "        document.querySelector('#id_8f45a0e3-610b-4e8d-91d7-a7f8fdf05b66 button.colab-df-generate');\n",
              "      buttonEl.style.display =\n",
              "        google.colab.kernel.accessAllowed ? 'block' : 'none';\n",
              "\n",
              "      buttonEl.onclick = () => {\n",
              "        google.colab.notebook.generateWithVariable('tabla');\n",
              "      }\n",
              "      })();\n",
              "    </script>\n",
              "  </div>\n",
              "\n",
              "    </div>\n",
              "  </div>\n"
            ],
            "application/vnd.google.colaboratory.intrinsic+json": {
              "type": "dataframe",
              "variable_name": "tabla",
              "summary": "{\n  \"name\": \"tabla\",\n  \"rows\": 4,\n  \"fields\": [\n    {\n      \"column\": \"Ruta\",\n      \"properties\": {\n        \"dtype\": \"string\",\n        \"num_unique_values\": 4,\n        \"samples\": [\n          \"Ruta 2\",\n          \"Ruta 4\",\n          \"Ruta 1\"\n        ],\n        \"semantic_type\": \"\",\n        \"description\": \"\"\n      }\n    },\n    {\n      \"column\": \"\\u03bcV,i\",\n      \"properties\": {\n        \"dtype\": \"number\",\n        \"std\": 1.5616331344674628,\n        \"min\": 71.6549,\n        \"max\": 75.3703,\n        \"num_unique_values\": 4,\n        \"samples\": [\n          71.6549,\n          74.2592,\n          75.3703\n        ],\n        \"semantic_type\": \"\",\n        \"description\": \"\"\n      }\n    },\n    {\n      \"column\": \"\\u03c3V,i\",\n      \"properties\": {\n        \"dtype\": \"number\",\n        \"std\": 0.6086801048169721,\n        \"min\": 4.938,\n        \"max\": 6.3849,\n        \"num_unique_values\": 4,\n        \"samples\": [\n          6.3849,\n          5.7732,\n          5.4245\n        ],\n        \"semantic_type\": \"\",\n        \"description\": \"\"\n      }\n    },\n    {\n      \"column\": \"Prior P(i)\",\n      \"properties\": {\n        \"dtype\": \"number\",\n        \"std\": 0.07295752188773957,\n        \"min\": 0.1628,\n        \"max\": 0.3382,\n        \"num_unique_values\": 4,\n        \"samples\": [\n          0.1628,\n          0.2666,\n          0.3382\n        ],\n        \"semantic_type\": \"\",\n        \"description\": \"\"\n      }\n    },\n    {\n      \"column\": \"vobs,i\",\n      \"properties\": {\n        \"dtype\": \"number\",\n        \"std\": 12,\n        \"min\": 50,\n        \"max\": 80,\n        \"num_unique_values\": 4,\n        \"samples\": [\n          80,\n          60,\n          70\n        ],\n        \"semantic_type\": \"\",\n        \"description\": \"\"\n      }\n    },\n    {\n      \"column\": \"Likelihood L\\u1d62\",\n      \"properties\": {\n        \"dtype\": \"number\",\n        \"std\": 0.021183405454899516,\n        \"min\": 0.0,\n        \"max\": 0.0451,\n        \"num_unique_values\": 4,\n        \"samples\": [\n          0.0266,\n          0.0033,\n          0.0451\n        ],\n        \"semantic_type\": \"\",\n        \"description\": \"\"\n      }\n    },\n    {\n      \"column\": \"Posterior P(i | vobs)\",\n      \"properties\": {\n        \"dtype\": \"number\",\n        \"std\": 0.3427597701014517,\n        \"min\": 0.0,\n        \"max\": 0.7455,\n        \"num_unique_values\": 4,\n        \"samples\": [\n          0.2118,\n          0.0427,\n          0.7455\n        ],\n        \"semantic_type\": \"\",\n        \"description\": \"\"\n      }\n    }\n  ]\n}"
            }
          },
          "metadata": {},
          "execution_count": 35
        }
      ]
    },
    {
      "cell_type": "code",
      "source": [
        "#La Ruta 1 tiene la mayor probabilidad posterior: P(Ruta 1 | vobs) ≈ 0.7455\n",
        "#Antes de observar vobs, la probabilidad de que la Ruta 1 fuera la mejor era de solo 0.3382\n",
        "#Luego de aplicar el teorema de Bayes y considerar la observación de velocidad (70 km/h), esta probabilidad aumentó drásticamente a 0.7455.\n"
      ],
      "metadata": {
        "id": "o8MOaz-4RIlW"
      },
      "execution_count": null,
      "outputs": []
    },
    {
      "cell_type": "code",
      "source": [],
      "metadata": {
        "id": "qzzn3sCJYUJ1"
      },
      "execution_count": null,
      "outputs": []
    }
  ]
}