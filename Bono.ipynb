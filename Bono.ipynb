{
  "nbformat": 4,
  "nbformat_minor": 0,
  "metadata": {
    "colab": {
      "provenance": [],
      "authorship_tag": "ABX9TyN4C0GG5x2zjmYQHfRxnrfE",
      "include_colab_link": true
    },
    "kernelspec": {
      "name": "python3",
      "display_name": "Python 3"
    },
    "language_info": {
      "name": "python"
    }
  },
  "cells": [
    {
      "cell_type": "markdown",
      "metadata": {
        "id": "view-in-github",
        "colab_type": "text"
      },
      "source": [
        "<a href=\"https://colab.research.google.com/github/KateT840/M-computacionales-1/blob/main/Bono.ipynb\" target=\"_parent\"><img src=\"https://colab.research.google.com/assets/colab-badge.svg\" alt=\"Open In Colab\"/></a>"
      ]
    },
    {
      "cell_type": "code",
      "source": [
        "import numpy as np\n",
        "import matplotlib.pyplot as plt\n",
        "import sympy as sym\n",
        "import math\n",
        "sym.init_printing(use_unicode=True)"
      ],
      "metadata": {
        "id": "jjWKOgY4ryb6"
      },
      "execution_count": 1,
      "outputs": []
    },
    {
      "cell_type": "code",
      "source": [
        "from sympy import symbols, expand, factor, roots\n",
        "\n",
        "# Definir variable\n",
        "z = symbols('z')\n",
        "\n",
        "# Definir la expresión\n",
        "expr = z**3 - 1\n",
        "\n",
        "# Factorizar la expresión\n",
        "factored_expr = factor(expr)\n",
        "\n",
        "# Calcular raíces complejas\n",
        "complex_roots = roots(expr)\n",
        "#factored_expr\n",
        "complex_roots"
      ],
      "metadata": {
        "colab": {
          "base_uri": "https://localhost:8080/",
          "height": 68
        },
        "id": "aO85TeAVqi2x",
        "outputId": "2be6b7de-291f-49f9-b1ee-b7d2254f4262"
      },
      "execution_count": null,
      "outputs": [
        {
          "output_type": "execute_result",
          "data": {
            "text/plain": [
              "⎧        1   √3⋅ⅈ       1   √3⋅ⅈ   ⎫\n",
              "⎨1: 1, - ─ - ────: 1, - ─ + ────: 1⎬\n",
              "⎩        2    2         2    2     ⎭"
            ],
            "text/latex": "$\\displaystyle \\left\\{ 1 : 1, \\  - \\frac{1}{2} - \\frac{\\sqrt{3} i}{2} : 1, \\  - \\frac{1}{2} + \\frac{\\sqrt{3} i}{2} : 1\\right\\}$"
          },
          "metadata": {},
          "execution_count": 15
        }
      ]
    },
    {
      "cell_type": "code",
      "source": [
        "from sympy import symbols, expand, factor\n",
        "\n",
        "# Definir variable\n",
        "z = symbols('z')\n",
        "\n",
        "# Definir la expresión\n",
        "expr = z**3 - 1\n",
        "\n",
        "# Factorizar la expresión en términos de raíces complejas\n",
        "factored_expr = factor(expr, extension=True)\n",
        "\n",
        "# Expandir la factorización\n",
        "expanded_expr = expand(factored_expr)\n",
        "expanded_expr"
      ],
      "metadata": {
        "colab": {
          "base_uri": "https://localhost:8080/",
          "height": 38
        },
        "id": "uaCx6p1-5S7g",
        "outputId": "eb891ba0-3a88-4a4f-b4ab-129c955d536f"
      },
      "execution_count": null,
      "outputs": [
        {
          "output_type": "execute_result",
          "data": {
            "text/plain": [
              " 3    \n",
              "z  - 1"
            ],
            "text/latex": "$\\displaystyle z^{3} - 1$"
          },
          "metadata": {},
          "execution_count": 18
        }
      ]
    },
    {
      "cell_type": "code",
      "source": [
        "from sympy import symbols, expand, roots\n",
        "\n",
        "x, y, z, i, j = symbols('x y z i j')\n",
        "\n",
        "# Definir reglas de los terniones\n",
        "rules = {i*i: -1, j*j: -1, i*j: 0, j*i: 0, i*i*i:-i, j*j*j:-j}\n",
        "\n",
        "# Expresión a expandir\n",
        "expr = (x + y*i + z*j) ** 3\n",
        "\n",
        "# Expandimos y sustituimos reglas\n",
        "expanded_expr = expand(expr).subs(rules)\n",
        "expanded_expr"
      ],
      "metadata": {
        "colab": {
          "base_uri": "https://localhost:8080/",
          "height": 38
        },
        "id": "bNzzrEBe8PSX",
        "outputId": "b36fe796-9411-41b7-8a52-c5b656d6d9a9"
      },
      "execution_count": 10,
      "outputs": [
        {
          "output_type": "execute_result",
          "data": {
            "text/plain": [
              "     2        3          2        2          2        3    3        2        2\n",
              "3⋅i⋅x ⋅y - i⋅y  - 3⋅i⋅y⋅z  + 3⋅j⋅x ⋅z - 3⋅j⋅y ⋅z - j⋅z  + x  - 3⋅x⋅y  - 3⋅x⋅z "
            ],
            "text/latex": "$\\displaystyle 3 i x^{2} y - i y^{3} - 3 i y z^{2} + 3 j x^{2} z - 3 j y^{2} z - j z^{3} + x^{3} - 3 x y^{2} - 3 x z^{2}$"
          },
          "metadata": {},
          "execution_count": 10
        }
      ]
    },
    {
      "cell_type": "code",
      "source": [
        "G = (lambda x,y,z: x**3 - 3*x*y**2 - 3*x*z**2 - 1, \\\n",
        "     lambda x,y,z: 3*x**2*y - y**3 - 3*z**2*y , \\\n",
        "     lambda x,y,z: 3*x**2*z - 3*y**2*z - z**3 )"
      ],
      "metadata": {
        "id": "jVuTHrFI8P6B"
      },
      "execution_count": 29,
      "outputs": []
    },
    {
      "cell_type": "code",
      "source": [
        "def GetVectorF(G,r):\n",
        "\n",
        "    v = np.zeros(len(G))\n",
        "    for i in range(v.shape[0]):\n",
        "        v[i] = G[i](r[0],r[1],r[2])\n",
        "\n",
        "    return v"
      ],
      "metadata": {
        "id": "vmde6WMm8SQ1"
      },
      "execution_count": 36,
      "outputs": []
    },
    {
      "cell_type": "code",
      "source": [
        "def GetJacobian(G,r,h=1e-4):\n",
        "\n",
        "    J = np.zeros((r.shape[0],r.shape[0]))\n",
        "\n",
        "    for i in range(r.shape[0]):\n",
        "        J[i,0] = (G[i](r[0]+h,r[1],r[2]) - G[i](r[0]-h,r[1],r[2]))/(2*h)\n",
        "        J[i,1] = (G[i](r[0],r[1]+h,r[2]) - G[i](r[0],r[1]-h,r[2]))/(2*h)\n",
        "        J[i,2] = (G[i](r[0],r[1],r[2]+h) - G[i](r[0],r[1],r[2]-h))/(2*h)\n",
        "\n",
        "\n",
        "    return J"
      ],
      "metadata": {
        "id": "nlgbHWQr7bph"
      },
      "execution_count": 37,
      "outputs": []
    },
    {
      "cell_type": "code",
      "source": [
        "def NewtonRaphson(G,r, tolerancia = 1e-10):\n",
        "\n",
        "  it = 0\n",
        "  d = 1.\n",
        "  Distance = np.array([])\n",
        "\n",
        "  while d  > tolerancia:\n",
        "\n",
        "    F = GetVectorF(G,r)\n",
        "    J = GetJacobian(G,r)\n",
        "    InvJ = np.linalg.inv(J)\n",
        "\n",
        "    r_new = r - np.dot(InvJ,F)\n",
        "\n",
        "    diff = r_new - r\n",
        "    #print(diff)\n",
        "    d = np.linalg.norm(diff)\n",
        "    #print(d)\n",
        "    Distance = np.append(Distance,d)\n",
        "\n",
        "    if it%50 == 0:\n",
        "      print(it,d)\n",
        "\n",
        "    r = r_new\n",
        "    it += 1\n",
        "\n",
        "  return r,Distance"
      ],
      "metadata": {
        "id": "mKb2DYPyDgYT"
      },
      "execution_count": 38,
      "outputs": []
    },
    {
      "cell_type": "code",
      "source": [
        "r1_inicial = np.array([1.0, 0.0, 0.0]) #solución \"trivial\"\n",
        "r2_inicial = np.array([-1.0, 0.0, 1.0])\n",
        "r3_inicial = np.array([-0.49, 0.0, 0.9])\n"
      ],
      "metadata": {
        "id": "cvXZSCyyD2QY"
      },
      "execution_count": 75,
      "outputs": []
    },
    {
      "cell_type": "code",
      "source": [
        "solucion, distancia = NewtonRaphson(G, r3_inicial)\n",
        "solucion"
      ],
      "metadata": {
        "colab": {
          "base_uri": "https://localhost:8080/"
        },
        "id": "yNo9W1P7EcGB",
        "outputId": "2998c61d-e6a3-42ef-c1c5-7844d39aa375"
      },
      "execution_count": 76,
      "outputs": [
        {
          "output_type": "stream",
          "name": "stdout",
          "text": [
            "0 0.03456022366179121\n"
          ]
        },
        {
          "output_type": "execute_result",
          "data": {
            "text/plain": [
              "array([-0.5      ,  0.       ,  0.8660254])"
            ]
          },
          "metadata": {},
          "execution_count": 76
        }
      ]
    },
    {
      "cell_type": "code",
      "source": [
        "plt.plot(distancia)"
      ],
      "metadata": {
        "colab": {
          "base_uri": "https://localhost:8080/",
          "height": 447
        },
        "id": "3ez5puftEgfP",
        "outputId": "8f39fc8e-6fc8-4cdc-fdcb-b8646d4032c6"
      },
      "execution_count": 77,
      "outputs": [
        {
          "output_type": "execute_result",
          "data": {
            "text/plain": [
              "[<matplotlib.lines.Line2D at 0x7c44baa53950>]"
            ]
          },
          "metadata": {},
          "execution_count": 77
        },
        {
          "output_type": "display_data",
          "data": {
            "text/plain": [
              "<Figure size 640x480 with 1 Axes>"
            ],
            "image/png": "[encoded data removed]"
          },
          "metadata": {}
        }
      ]
    },
    {
      "cell_type": "code",
      "source": [],
      "metadata": {
        "id": "sQ9dlsVbJQOv"
      },
      "execution_count": null,
      "outputs": []
    }
  ]
}